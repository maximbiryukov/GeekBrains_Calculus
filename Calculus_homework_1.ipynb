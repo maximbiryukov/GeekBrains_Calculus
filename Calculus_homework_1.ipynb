{
 "cells": [
  {
   "cell_type": "markdown",
   "metadata": {},
   "source": [
    "1. Как относятся друг к другу множество и последовательность? (в ответе использовать слова типа: часть, целое, общее, частное, родитель, дочерний субъект и т.д.)"
   ]
  },
  {
   "cell_type": "markdown",
   "metadata": {},
   "source": [
    "Последовательность - часть множества."
   ]
  },
  {
   "cell_type": "markdown",
   "metadata": {},
   "source": [
    "# Тема \"Множество\""
   ]
  },
  {
   "cell_type": "markdown",
   "metadata": {},
   "source": [
    "Даны три множества a,b и с. Необходимо выполнить все изученные виды бинарных операций над всеми комбинациями множеств.\n",
    "*Выполнить задание 1 на языке Python\n"
   ]
  },
  {
   "cell_type": "code",
   "execution_count": 52,
   "metadata": {},
   "outputs": [
    {
     "name": "stdout",
     "output_type": "stream",
     "text": [
      "Пересечение a и b: {40, 20}\n",
      "Пересечение b и c: set()\n",
      "Пересечение a и c: {10, 50, 30}\n",
      "\n",
      "Объединение a и b: {100, 40, 10, 80, 50, 20, 60, 30}\n",
      "Объединение b и c: {100, 70, 40, 10, 80, 50, 20, 90, 60, 30}\n",
      "Объединение a и c: {70, 40, 10, 50, 20, 90, 30}\n",
      "\n",
      "Разность a и b: {10, 50, 30}\n",
      "Разность b и c: {100, 40, 80, 20, 60}\n",
      "Разность a и c: {40, 20}\n",
      "\n",
      "Симметрическая разность a и b: {80, 50, 100, 10, 60, 30}\n",
      "Симметрическая разность b и c: {70, 10, 80, 20, 90, 30, 100, 40, 50, 60}\n",
      "Симметрическая разность a и c: {20, 90, 70, 40}\n",
      "\n",
      "Декартово произведение a и b: [(40, 100), (40, 40), (40, 80), (40, 20), (40, 60), (10, 100), (10, 40), (10, 80), (10, 20), (10, 60), (50, 100), (50, 40), (50, 80), (50, 20), (50, 60), (20, 100), (20, 40), (20, 80), (20, 20), (20, 60), (30, 100), (30, 40), (30, 80), (30, 20), (30, 60)]\n",
      "Декартово произведение b и c: [(100, 70), (100, 10), (100, 50), (100, 90), (100, 30), (40, 70), (40, 10), (40, 50), (40, 90), (40, 30), (80, 70), (80, 10), (80, 50), (80, 90), (80, 30), (20, 70), (20, 10), (20, 50), (20, 90), (20, 30), (60, 70), (60, 10), (60, 50), (60, 90), (60, 30)]\n",
      "Декартово произведение a и c: [(40, 70), (40, 10), (40, 50), (40, 90), (40, 30), (10, 70), (10, 10), (10, 50), (10, 90), (10, 30), (50, 70), (50, 10), (50, 50), (50, 90), (50, 30), (20, 70), (20, 10), (20, 50), (20, 90), (20, 30), (30, 70), (30, 10), (30, 50), (30, 90), (30, 30)]\n"
     ]
    }
   ],
   "source": [
    "import itertools\n",
    "\n",
    "a = set([10, 20, 30, 40, 50])\n",
    "b = set([20, 40, 60, 80 , 100])\n",
    "c = set([10, 30, 50, 70, 90])\n",
    "\n",
    "print(f\"Пересечение a и b: {set.intersection(a, b)}\")\n",
    "print(f\"Пересечение b и c: {set.intersection(b, c)}\")\n",
    "print(f\"Пересечение a и c: {set.intersection(a, c)}\")\n",
    "print()\n",
    "print(f\"Объединение a и b: {set.union(a, b)}\")\n",
    "print(f\"Объединение b и c: {set.union(b, c)}\")\n",
    "print(f\"Объединение a и c: {set.union(a, c)}\")\n",
    "print()\n",
    "print(f\"Разность a и b: {set.difference(a, b)}\")\n",
    "print(f\"Разность b и c: {set.difference(b, c)}\")\n",
    "print(f\"Разность a и c: {set.difference(a, c)}\")\n",
    "print()\n",
    "print(f\"Симметрическая разность a и b: {set.symmetric_difference(a, b)}\")\n",
    "print(f\"Симметрическая разность b и c: {set.symmetric_difference(b, c)}\")\n",
    "print(f\"Симметрическая разность a и c: {set.symmetric_difference(a, c)}\")\n",
    "print()\n",
    "print(f\"Декартово произведение a и b: {[i for i in itertools.product(a, b)]}\")\n",
    "print(f\"Декартово произведение b и c: {[i for i in itertools.product(b, c)]}\")\n",
    "print(f\"Декартово произведение a и c: {[i for i in itertools.product(a, c)]}\")"
   ]
  },
  {
   "cell_type": "markdown",
   "metadata": {},
   "source": [
    "2. Найти 12-й член заданной неявно последовательности a1 = 128, a(n+1) - a(n) = 6"
   ]
  },
  {
   "cell_type": "code",
   "execution_count": 58,
   "metadata": {},
   "outputs": [
    {
     "name": "stdout",
     "output_type": "stream",
     "text": [
      "12-й член последовательности: 62\n"
     ]
    }
   ],
   "source": [
    "sequence = [128]\n",
    "for i in range(1,12):\n",
    "    sequence.append(sequence[i-1] - 6)\n",
    "    \n",
    "print(f'12-й член последовательности: {sequence[11]}')"
   ]
  },
  {
   "cell_type": "markdown",
   "metadata": {},
   "source": [
    "3. *На языке Python предложить алгоритм вычисляющий численно предел с точностью до 10**-7 n/(n!)**(1/n)"
   ]
  },
  {
   "cell_type": "code",
   "execution_count": 140,
   "metadata": {},
   "outputs": [
    {
     "name": "stdout",
     "output_type": "stream",
     "text": [
      "2.6625312882350265 2.6628110780187835 2.663087878748024\n",
      "Точнее непонятно как ((((\n"
     ]
    }
   ],
   "source": [
    "import numpy as np\n",
    "from math import factorial\n",
    "\n",
    "sequence = []\n",
    "\n",
    "for i in range(1, 171):\n",
    "    sequence.append((i/(factorial(i) ** (1/i))))\n",
    "print(sequence[-3], sequence[-2],sequence[-1])\n",
    "print('Точнее непонятно как ((((')"
   ]
  }
 ],
 "metadata": {
  "kernelspec": {
   "display_name": "Python 3",
   "language": "python",
   "name": "python3"
  },
  "language_info": {
   "codemirror_mode": {
    "name": "ipython",
    "version": 3
   },
   "file_extension": ".py",
   "mimetype": "text/x-python",
   "name": "python",
   "nbconvert_exporter": "python",
   "pygments_lexer": "ipython3",
   "version": "3.7.1"
  }
 },
 "nbformat": 4,
 "nbformat_minor": 2
}
